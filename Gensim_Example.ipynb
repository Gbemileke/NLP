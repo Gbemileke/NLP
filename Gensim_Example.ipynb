{
 "cells": [
  {
   "cell_type": "code",
   "execution_count": 2,
   "metadata": {},
   "outputs": [],
   "source": [
    "from gensim.summarization.summarizer import summarize\n",
    "from gensim.summarization import keywords"
   ]
  },
  {
   "cell_type": "code",
   "execution_count": 13,
   "metadata": {
    "scrolled": false
   },
   "outputs": [
    {
     "data": {
      "text/plain": [
       "['That’s why, until we have a national privacy law, we should pursue a national data broker registry to help consumers discover this information — and learn the difference between good data actors and bad ones.',\n",
       " 'People who today use Facebook, Google, Amazon and Apple understand that these companies collect their data in an effort to improve their experience and to generate revenue by selling advertising.',\n",
       " 'Increasing transparency — initially through a data broker registry and ultimately through a robust and balanced national privacy law — would help reduce the conflation of legitimate, regulated entities with unethical companies and criminals.']"
      ]
     },
     "execution_count": 13,
     "metadata": {},
     "output_type": "execute_result"
    }
   ],
   "source": [
    "file = open('TextAnalysis/article1.txt', \"r\")\n",
    "filedata = file.readlines()\n",
    "text=filedata[0].rstrip()\n",
    "summarize(text, ratio=0.1,split=True)\n",
    "# summarize(text, ratio=0.1,split=True)\n",
    "# print ('Summary:')\n",
    "# print (summarize(text, ratio=0.1, split=True))\n",
    "\n",
    "# print ('\\nKeywords:')\n",
    "# print (keywords(text, ratio=0.1))"
   ]
  },
  {
   "cell_type": "code",
   "execution_count": 10,
   "metadata": {},
   "outputs": [
    {
     "data": {
      "text/plain": [
       "['It’s time for a national data privacy law, one that gives consumers meaningful rights — to know who has their data, how it is used and how to opt out. It’s in our country’s best interest to have a national standard that, done thoughtfully, benefits both consumers and businesses by providing transparency, uniformity and certainty without deterring innovation and competition. A comprehensive national privacy law cannot be developed overnight, especially in today’s political environment. And quite honestly, it shouldn’t be rushed; there are complexities to consider, such as the role of existing state and federal laws, as well as which agency will oversee enforcement and how it will be funded. Many different constituencies must come to an agreement for any national privacy law to succeed. As the General Data Protection Regulation in Europe has shown us, complexity across multiple countries and standards means that it can take years to put privacy protections in place. Still, people deserve to know who is collecting data about them, why it’s being collected and the types of companies with which the data is being shared. They should also have assurances that companies collecting data have adequate measures in place to ensure security and confidentiality. That’s why, until we have a national privacy law, we should pursue a national data broker registry to help consumers discover this information — and learn the difference between good data actors and bad ones. People who today use Facebook, Google, Amazon and Apple understand that these companies collect their data in an effort to improve their experience and to generate revenue by selling advertising. But there is less awareness of companies — generally referred to as data brokers — that collect, source and otherwise license information about consumers who are not their customers. The growing commercial use of data is outpacing the public’s understanding. But marketing data brings real value to consumers. Advertising helps consumers get relevant information to assist them in making choices on an endless array of goods and services. And it helps our clients — in sectors like financial services and banking, consumer goods, transportation and hospitality — to understand customers and deliver them marketing messages that are more relevant, consistent and effective. Data-driven marketing helps businesses reduce wasteful ad spending and helps fund free or low-cost consumer products and services on the internet, including free search, email and social media platforms, as well as customized content. In many cases, it also funds the press and other channels of expression. Our business is underpinned by policies on comprehensive data governance, in an effort to ensure that data use is transparent, fair and just, that there are benefits for both businesses and consumers. We help marketers follow the golden rule of business — “Know Your Customer” — so that they can deliver a better experience. Unfortunately, the irresponsible actions of some individuals and organizations have cast a shadow over our industry. They violate consumers’ privacy, profit from stolen data and commit fraud. Increasing transparency — initially through a data broker registry and ultimately through a robust and balanced national privacy law — would help reduce the conflation of legitimate, regulated entities with unethical companies and criminals. Senator Gary Peters, Democrat of Michigan, and Senator Martha McSally, Republican of Arizona, recently introduced the Data Broker List Act of 2019, which provides a helpful starting point for a dialogue around a national data broker registry. The bill would require data brokers to sign up to a national registry overseen by the Federal Trade Commission— and to maintain a comprehensive information security program as a means to protect consumer data from security breaches and other inadvertent or improper disclosures. The registry would identify companies that collect information about consumers who are not their own customers. It would also give individuals the tools to contact companies to find out about their data collection practices, as well as information about how to opt out of a registered company’s marketing products. Only Vermont already has such a law, although other states are considering similar measures. We initially resisted the Vermont law as being too broad; after all, providing data information services is only a small percentage of what we do. Nonetheless, we believe the proposed legislation can provide a solid framework for the necessary development of a registry at the federal level. Consumers demand that businesses provide them with more transparency around, and control of, their data. But they also expect continuous innovation and progress. That’s why it is important that regulations reflect the dynamic nature of data-driven business models and support cutting-edge services and products across the digital economy. Laws that do so will enable us, as service providers, to make advertising more meaningful for consumers. There is much work to do to ensure the ethical use of information in our economy. With a concerted effort to engage in mutual understanding, we can address consumer privacy on the one hand, while supporting the inventive, valuable and responsible uses of data on the other.\\n']"
      ]
     },
     "execution_count": 10,
     "metadata": {},
     "output_type": "execute_result"
    }
   ],
   "source": []
  },
  {
   "cell_type": "code",
   "execution_count": 9,
   "metadata": {},
   "outputs": [
    {
     "data": {
      "text/plain": [
       "'It’s time for a national data privacy law, one that gives consumers meaningful rights — to know who has their data, how it is used and how to opt out. It’s in our country’s best interest to have a national standard that, done thoughtfully, benefits both consumers and businesses by providing transparency, uniformity and certainty without deterring innovation and competition. A comprehensive national privacy law cannot be developed overnight, especially in today’s political environment. And quite honestly, it shouldn’t be rushed; there are complexities to consider, such as the role of existing state and federal laws, as well as which agency will oversee enforcement and how it will be funded. Many different constituencies must come to an agreement for any national privacy law to succeed. As the General Data Protection Regulation in Europe has shown us, complexity across multiple countries and standards means that it can take years to put privacy protections in place. Still, people deserve to know who is collecting data about them, why it’s being collected and the types of companies with which the data is being shared. They should also have assurances that companies collecting data have adequate measures in place to ensure security and confidentiality. That’s why, until we have a national privacy law, we should pursue a national data broker registry to help consumers discover this information — and learn the difference between good data actors and bad ones. People who today use Facebook, Google, Amazon and Apple understand that these companies collect their data in an effort to improve their experience and to generate revenue by selling advertising. But there is less awareness of companies — generally referred to as data brokers — that collect, source and otherwise license information about consumers who are not their customers. The growing commercial use of data is outpacing the public’s understanding. But marketing data brings real value to consumers. Advertising helps consumers get relevant information to assist them in making choices on an endless array of goods and services. And it helps our clients — in sectors like financial services and banking, consumer goods, transportation and hospitality — to understand customers and deliver them marketing messages that are more relevant, consistent and effective. Data-driven marketing helps businesses reduce wasteful ad spending and helps fund free or low-cost consumer products and services on the internet, including free search, email and social media platforms, as well as customized content. In many cases, it also funds the press and other channels of expression. Our business is underpinned by policies on comprehensive data governance, in an effort to ensure that data use is transparent, fair and just, that there are benefits for both businesses and consumers. We help marketers follow the golden rule of business — “Know Your Customer” — so that they can deliver a better experience. Unfortunately, the irresponsible actions of some individuals and organizations have cast a shadow over our industry. They violate consumers’ privacy, profit from stolen data and commit fraud. Increasing transparency — initially through a data broker registry and ultimately through a robust and balanced national privacy law — would help reduce the conflation of legitimate, regulated entities with unethical companies and criminals. Senator Gary Peters, Democrat of Michigan, and Senator Martha McSally, Republican of Arizona, recently introduced the Data Broker List Act of 2019, which provides a helpful starting point for a dialogue around a national data broker registry. The bill would require data brokers to sign up to a national registry overseen by the Federal Trade Commission— and to maintain a comprehensive information security program as a means to protect consumer data from security breaches and other inadvertent or improper disclosures. The registry would identify companies that collect information about consumers who are not their own customers. It would also give individuals the tools to contact companies to find out about their data collection practices, as well as information about how to opt out of a registered company’s marketing products. Only Vermont already has such a law, although other states are considering similar measures. We initially resisted the Vermont law as being too broad; after all, providing data information services is only a small percentage of what we do. Nonetheless, we believe the proposed legislation can provide a solid framework for the necessary development of a registry at the federal level. Consumers demand that businesses provide them with more transparency around, and control of, their data. But they also expect continuous innovation and progress. That’s why it is important that regulations reflect the dynamic nature of data-driven business models and support cutting-edge services and products across the digital economy. Laws that do so will enable us, as service providers, to make advertising more meaningful for consumers. There is much work to do to ensure the ethical use of information in our economy. With a concerted effort to engage in mutual understanding, we can address consumer privacy on the one hand, while supporting the inventive, valuable and responsible uses of data on the other.'"
      ]
     },
     "execution_count": 9,
     "metadata": {},
     "output_type": "execute_result"
    }
   ],
   "source": [
    "filedata[0].rstrip()"
   ]
  },
  {
   "cell_type": "code",
   "execution_count": 15,
   "metadata": {},
   "outputs": [],
   "source": [
    "file = open('TextAnalysis/news_1.txt', \"r\")\n",
    "filedata = file.readlines()\n",
    "text=filedata[0]"
   ]
  },
  {
   "cell_type": "code",
   "execution_count": 16,
   "metadata": {},
   "outputs": [
    {
     "data": {
      "text/plain": [
       "<itertools.chain at 0x29056c3b508>"
      ]
     },
     "execution_count": 16,
     "metadata": {},
     "output_type": "execute_result"
    }
   ],
   "source": [
    "import itertools\n",
    "\n",
    "itertools.chain.from_iterable((i.split(\" \") for i in text.split(\"___\")))"
   ]
  },
  {
   "cell_type": "code",
   "execution_count": null,
   "metadata": {},
   "outputs": [],
   "source": [
    "from dataclasses import dataclass\n",
    "from gensim.summarization.summarizer import summarize\n",
    "from gensim.summarization import keywords\n",
    "\n",
    "\n",
    "@dataclass\n",
    "class Summarizer:\n",
    "\n",
    "    def summarize_text(self, text):\n",
    "        ratio = .01\n",
    "        summary = self.__summarize_article(text,ratio)\n",
    "\n",
    "        while len(summary) == 0:\n",
    "            ratio+=.01\n",
    "            summary = self.__summarize_article(text, ratio)\n",
    "\n",
    "        return summary\n",
    "\n",
    "    def __summarize_article(self, text, ratio=.01):\n",
    "        summary = summarize(text, ratio, split=False)\n",
    "\n",
    "        return summary\n",
    "\n",
    "\n"
   ]
  },
  {
   "cell_type": "code",
   "execution_count": null,
   "metadata": {},
   "outputs": [],
   "source": [
    "filepath=''\n",
    "file = open(filepath, \"r\")\n",
    "filedata = file.readlines()\n",
    "text=filedata\n",
    "\n",
    "articles = []\n",
    "text = ''\n",
    "for row in filedata:\n",
    "    text+=str(row)\n",
    "    if re.search(\"_{4}\",row) is not None:\n",
    "        articles.append(text)\n",
    "        text = ''\n",
    "\n",
    "\n",
    "\n",
    "article_no = 0\n",
    "for a in articles:\n",
    "    summary = sum_it(a)\n",
    "\n",
    "    article_no+=1\n",
    "    print(f'Summary of article {article_no} is {summary}.')\n",
    "    print(f'Length of the original is {len(a)}; length of summary is {len(summary)}')"
   ]
  }
 ],
 "metadata": {
  "kernelspec": {
   "display_name": "Python 3",
   "language": "python",
   "name": "python3"
  },
  "language_info": {
   "codemirror_mode": {
    "name": "ipython",
    "version": 3
   },
   "file_extension": ".py",
   "mimetype": "text/x-python",
   "name": "python",
   "nbconvert_exporter": "python",
   "pygments_lexer": "ipython3",
   "version": "3.7.4"
  }
 },
 "nbformat": 4,
 "nbformat_minor": 2
}
